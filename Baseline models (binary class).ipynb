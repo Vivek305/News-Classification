{
 "cells": [
  {
   "cell_type": "markdown",
   "metadata": {},
   "source": [
    "<h2>Baseline models</h2>\n",
    "<h4>Preprocessing tasks - </h4>\n",
    "1) Unicode to UTF-8 decoding <br>\n",
    "2) Remove punctuations and numbers <br>\n",
    "3) Expand word contractions <br>\n",
    "4) Lemmatization <br>\n",
    "\n",
    "<h4>Feature extractions - </h4>\n",
    "TF-IDF<br>\n",
    "Word2Vec model\n",
    "<h3> Import packages and set default preferences</h3>\n"
   ]
  },
  {
   "cell_type": "code",
   "execution_count": 67,
   "metadata": {},
   "outputs": [],
   "source": [
    "import pandas as pd\n",
    "import numpy as np\n",
    "import os\n",
    "import nltk\n",
    "import string\n",
    "import re\n",
    "import pickle\n",
    "import itertools\n",
    "from nltk import pos_tag\n",
    "from nltk import map_tag\n",
    "from nltk.stem import WordNetLemmatizer\n",
    "from unidecode import unidecode\n",
    "from nltk.tokenize import word_tokenize\n",
    "from nltk.corpus import stopwords\n",
    "\n",
    "import matplotlib.pyplot as plt\n",
    "import seaborn as sns\n",
    "import time\n",
    "from sklearn.naive_bayes import MultinomialNB\n",
    "from sklearn.ensemble import RandomForestClassifier\n",
    "#import plotly.plotly as py\n",
    "#import plotly.figure_factory as ff\n",
    "from sklearn.manifold import TSNE\n",
    "from sklearn import preprocessing\n",
    "from sklearn.metrics import roc_curve, auc, accuracy_score\n",
    "from sklearn.metrics import confusion_matrix, mean_squared_error\n",
    "from sklearn.model_selection import cross_val_score, KFold, train_test_split\n",
    "from sklearn.feature_extraction.text import TfidfVectorizer\n",
    "from sklearn.linear_model import LogisticRegression\n",
    "from sklearn.decomposition import PCA\n",
    "from sklearn.svm import LinearSVC\n",
    "from gensim.models import KeyedVectors\n",
    "\n",
    "\n",
    "# Set jupyter notebook preferences\n",
    "from IPython.core.interactiveshell import InteractiveShell\n",
    "InteractiveShell.ast_node_interactivity = \"all\"\n",
    "import warnings\n",
    "warnings.filterwarnings('ignore')\n",
    "\n",
    "sns.set_palette(\"hls\")\n",
    "%matplotlib inline"
   ]
  },
  {
   "cell_type": "code",
   "execution_count": 2,
   "metadata": {},
   "outputs": [],
   "source": [
    "f = open(\"my_git_url.txt\", \"r\")\n",
    "git_dir = f.read()"
   ]
  },
  {
   "cell_type": "code",
   "execution_count": 3,
   "metadata": {},
   "outputs": [
    {
     "data": {
      "text/html": [
       "<div>\n",
       "<style scoped>\n",
       "    .dataframe tbody tr th:only-of-type {\n",
       "        vertical-align: middle;\n",
       "    }\n",
       "\n",
       "    .dataframe tbody tr th {\n",
       "        vertical-align: top;\n",
       "    }\n",
       "\n",
       "    .dataframe thead th {\n",
       "        text-align: right;\n",
       "    }\n",
       "</style>\n",
       "<table border=\"1\" class=\"dataframe\">\n",
       "  <thead>\n",
       "    <tr style=\"text-align: right;\">\n",
       "      <th></th>\n",
       "      <th>subreddit</th>\n",
       "      <th>text</th>\n",
       "    </tr>\n",
       "  </thead>\n",
       "  <tbody>\n",
       "    <tr>\n",
       "      <th>0</th>\n",
       "      <td>conservative</td>\n",
       "      <td>Washington (CNN) Former FBI Director James Com...</td>\n",
       "    </tr>\n",
       "    <tr>\n",
       "      <th>1</th>\n",
       "      <td>conservative</td>\n",
       "      <td>NaN</td>\n",
       "    </tr>\n",
       "    <tr>\n",
       "      <th>2</th>\n",
       "      <td>conservative</td>\n",
       "      <td>Kanye West has been having a very Kanye West 2...</td>\n",
       "    </tr>\n",
       "    <tr>\n",
       "      <th>3</th>\n",
       "      <td>conservative</td>\n",
       "      <td>As a stoical Robert Bork sat before the Senate...</td>\n",
       "    </tr>\n",
       "    <tr>\n",
       "      <th>4</th>\n",
       "      <td>conservative</td>\n",
       "      <td>NaN</td>\n",
       "    </tr>\n",
       "  </tbody>\n",
       "</table>\n",
       "</div>"
      ],
      "text/plain": [
       "      subreddit                                               text\n",
       "0  conservative  Washington (CNN) Former FBI Director James Com...\n",
       "1  conservative                                                NaN\n",
       "2  conservative  Kanye West has been having a very Kanye West 2...\n",
       "3  conservative  As a stoical Robert Bork sat before the Senate...\n",
       "4  conservative                                                NaN"
      ]
     },
     "execution_count": 3,
     "metadata": {},
     "output_type": "execute_result"
    },
    {
     "data": {
      "text/plain": [
       "(17043, 2)"
      ]
     },
     "execution_count": 3,
     "metadata": {},
     "output_type": "execute_result"
    }
   ],
   "source": [
    "df = pd.read_csv('finaldata.csv',encoding='utf-8')\n",
    "df.head()\n",
    "df.shape"
   ]
  },
  {
   "cell_type": "code",
   "execution_count": 4,
   "metadata": {},
   "outputs": [
    {
     "data": {
      "text/plain": [
       "(16381, 2)"
      ]
     },
     "execution_count": 4,
     "metadata": {},
     "output_type": "execute_result"
    }
   ],
   "source": [
    "df.dropna(inplace=True)\n",
    "df.shape"
   ]
  },
  {
   "cell_type": "code",
   "execution_count": 5,
   "metadata": {},
   "outputs": [],
   "source": [
    "df = df[df['subreddit']!='socialism']\n",
    "df = df.drop_duplicates()\n",
    "df = df[(df['text'].str.len() > 1000) & (df['text'].str.len() < 10000)]"
   ]
  },
  {
   "cell_type": "code",
   "execution_count": 6,
   "metadata": {},
   "outputs": [],
   "source": [
    "df = df.sample(frac=1).reset_index(drop=True)"
   ]
  },
  {
   "cell_type": "code",
   "execution_count": 59,
   "metadata": {},
   "outputs": [
    {
     "data": {
      "text/plain": [
       "(9325,)"
      ]
     },
     "execution_count": 59,
     "metadata": {},
     "output_type": "execute_result"
    },
    {
     "data": {
      "text/plain": [
       "(9325,)"
      ]
     },
     "execution_count": 59,
     "metadata": {},
     "output_type": "execute_result"
    }
   ],
   "source": [
    "df['subreddit'].shape\n",
    "posts = df.text\n",
    "posts.shape"
   ]
  },
  {
   "cell_type": "code",
   "execution_count": 109,
   "metadata": {},
   "outputs": [],
   "source": [
    "df_new.to_csv('updated_data_binary.csv')"
   ]
  },
  {
   "cell_type": "markdown",
   "metadata": {},
   "source": [
    "### Expanding word contractions in the text and encoding text to UTF-8"
   ]
  },
  {
   "cell_type": "code",
   "execution_count": 85,
   "metadata": {},
   "outputs": [],
   "source": [
    "with open('expand_dict.pickle','rb') as f:\n",
    "    expand_dict = pickle.load(f)"
   ]
  },
  {
   "cell_type": "code",
   "execution_count": 86,
   "metadata": {},
   "outputs": [
    {
     "data": {
      "text/plain": [
       "'\\nexpand_contractions takes text and search for word contractions from dictionary keys and expand it from\\nvalues from dictionary\\n'"
      ]
     },
     "execution_count": 86,
     "metadata": {},
     "output_type": "execute_result"
    }
   ],
   "source": [
    "'''\n",
    "expand_contractions takes text and search for word contractions from dictionary keys and expand it from\n",
    "values from dictionary\n",
    "'''\n",
    "def expand_contractions(text, contraction_mapping=expand_dict):\n",
    "\n",
    "    contractions_pattern = re.compile('({})'.format('|'.join(contraction_mapping.keys())), \n",
    "                                      flags=re.IGNORECASE|re.DOTALL)\n",
    "    #print(contraction_mapping.keys())\n",
    "    def expand_match(contraction):\n",
    "        match = contraction.group(0)\n",
    "        first_char = match[0]\n",
    "        expanded_contraction = contraction_mapping.get(match)\\\n",
    "                                if contraction_mapping.get(match)\\\n",
    "                                else contraction_mapping.get(match.lower())                       \n",
    "        expanded_contraction = first_char+expanded_contraction[1:]\n",
    "        return expanded_contraction\n",
    "        \n",
    "    expanded_text = contractions_pattern.sub(expand_match, text)\n",
    "    expanded_text = re.sub(\"'\", \"\", expanded_text)\n",
    "    return expanded_text"
   ]
  },
  {
   "cell_type": "code",
   "execution_count": 87,
   "metadata": {},
   "outputs": [],
   "source": [
    "text_list = []\n",
    "for post in posts:\n",
    "    text_list.append(expand_contractions(post))"
   ]
  },
  {
   "cell_type": "code",
   "execution_count": 88,
   "metadata": {},
   "outputs": [],
   "source": [
    "#encoding from Unicode to UTF-8 and storing into new list\n",
    "encoded_list=[]\n",
    "for post in text_list:\n",
    "    encoded_list.append(unidecode(post))"
   ]
  },
  {
   "cell_type": "markdown",
   "metadata": {},
   "source": [
    "### Word tokenization and remove punctuations"
   ]
  },
  {
   "cell_type": "markdown",
   "metadata": {},
   "source": [
    "Tokenization and store cleaned tokens in the list"
   ]
  },
  {
   "cell_type": "code",
   "execution_count": 89,
   "metadata": {},
   "outputs": [],
   "source": [
    "def word_clean_tokenize(text):\n",
    "    tokens = nltk.word_tokenize(text)\n",
    "    tokenlist = []\n",
    "    for token in tokens:\n",
    "        token = token.strip().lower()\n",
    "        pattern = re.compile('[{}]'.format(re.escape(string.punctuation)))\n",
    "        token = pattern.sub('',token)\n",
    "        if not any(c.isdigit() for c in token):\n",
    "            tokenlist.append(token)\n",
    "    return tokenlist"
   ]
  },
  {
   "cell_type": "code",
   "execution_count": 90,
   "metadata": {},
   "outputs": [],
   "source": [
    "#tokenize the text in the list and store cleaned tokens in the list\n",
    "tokens = []\n",
    "for text in encoded_list:\n",
    "    tokens.append(word_clean_tokenize(text))"
   ]
  },
  {
   "cell_type": "markdown",
   "metadata": {},
   "source": [
    "### Remove stop words and Lemmatizations"
   ]
  },
  {
   "cell_type": "code",
   "execution_count": 91,
   "metadata": {},
   "outputs": [
    {
     "data": {
      "text/plain": [
       "9325"
      ]
     },
     "execution_count": 91,
     "metadata": {},
     "output_type": "execute_result"
    }
   ],
   "source": [
    "lemmatizer = WordNetLemmatizer()\n",
    "lem_tokens=[]\n",
    "stopword_list = nltk.corpus.stopwords.words('english')\n",
    "for token_list in tokens:\n",
    "    filter_list = []\n",
    "    for token in token_list:\n",
    "        if token not in stopword_list and token.strip():\n",
    "            filter_list.append(token)\n",
    "    lem_tokens.append(filter_list)\n",
    "len(lem_tokens)"
   ]
  },
  {
   "cell_type": "code",
   "execution_count": 158,
   "metadata": {},
   "outputs": [],
   "source": [
    "with open('final_tokens_binary.pickle', 'wb') as fp:\n",
    "    pickle.dump(lem_tokens, fp)"
   ]
  },
  {
   "cell_type": "code",
   "execution_count": 75,
   "metadata": {},
   "outputs": [],
   "source": [
    "with open('final_tokens.pickle', 'rb') as fp:\n",
    "    lem_tokens=pickle.load(fp)"
   ]
  },
  {
   "cell_type": "code",
   "execution_count": 97,
   "metadata": {},
   "outputs": [
    {
     "data": {
      "text/plain": [
       "9325"
      ]
     },
     "execution_count": 97,
     "metadata": {},
     "output_type": "execute_result"
    }
   ],
   "source": [
    "a=[]\n",
    "for t in lem_tokens:\n",
    "    a.append(list(set(t))) \n",
    "len(a)        "
   ]
  },
  {
   "cell_type": "markdown",
   "metadata": {},
   "source": [
    "Encoding text label to intenger before feeding it to classification models"
   ]
  },
  {
   "cell_type": "code",
   "execution_count": 8,
   "metadata": {},
   "outputs": [],
   "source": [
    "le = preprocessing.LabelEncoder()\n",
    "df['subred_num']=le.fit_transform(df['subreddit'])"
   ]
  },
  {
   "cell_type": "code",
   "execution_count": 9,
   "metadata": {},
   "outputs": [
    {
     "data": {
      "text/plain": [
       "array([0, 1], dtype=int64)"
      ]
     },
     "execution_count": 9,
     "metadata": {},
     "output_type": "execute_result"
    }
   ],
   "source": [
    "df['subred_num'].unique()"
   ]
  },
  {
   "cell_type": "code",
   "execution_count": 10,
   "metadata": {},
   "outputs": [],
   "source": [
    "subred_id_df = df[['subreddit', 'subred_num']].drop_duplicates().sort_values('subred_num')"
   ]
  },
  {
   "cell_type": "code",
   "execution_count": 11,
   "metadata": {},
   "outputs": [
    {
     "data": {
      "text/html": [
       "<div>\n",
       "<style scoped>\n",
       "    .dataframe tbody tr th:only-of-type {\n",
       "        vertical-align: middle;\n",
       "    }\n",
       "\n",
       "    .dataframe tbody tr th {\n",
       "        vertical-align: top;\n",
       "    }\n",
       "\n",
       "    .dataframe thead th {\n",
       "        text-align: right;\n",
       "    }\n",
       "</style>\n",
       "<table border=\"1\" class=\"dataframe\">\n",
       "  <thead>\n",
       "    <tr style=\"text-align: right;\">\n",
       "      <th></th>\n",
       "      <th>subreddit</th>\n",
       "      <th>subred_num</th>\n",
       "    </tr>\n",
       "  </thead>\n",
       "  <tbody>\n",
       "    <tr>\n",
       "      <th>0</th>\n",
       "      <td>conservative</td>\n",
       "      <td>0</td>\n",
       "    </tr>\n",
       "    <tr>\n",
       "      <th>1</th>\n",
       "      <td>liberal</td>\n",
       "      <td>1</td>\n",
       "    </tr>\n",
       "  </tbody>\n",
       "</table>\n",
       "</div>"
      ],
      "text/plain": [
       "      subreddit  subred_num\n",
       "0  conservative           0\n",
       "1       liberal           1"
      ]
     },
     "execution_count": 11,
     "metadata": {},
     "output_type": "execute_result"
    }
   ],
   "source": [
    "subred_id_df.head()\n",
    "subred_to_id = dict(subred_id_df.values)"
   ]
  },
  {
   "cell_type": "code",
   "execution_count": 12,
   "metadata": {},
   "outputs": [
    {
     "data": {
      "text/plain": [
       "[('conservative', 0), ('liberal', 1)]"
      ]
     },
     "execution_count": 12,
     "metadata": {},
     "output_type": "execute_result"
    }
   ],
   "source": [
    "sorted(subred_to_id.items())"
   ]
  },
  {
   "cell_type": "markdown",
   "metadata": {},
   "source": [
    "We cold try establishing classification accuracy on these data"
   ]
  },
  {
   "cell_type": "markdown",
   "metadata": {},
   "source": [
    "<h3>TF-IDF Vectorizer and classification models</h3>"
   ]
  },
  {
   "cell_type": "markdown",
   "metadata": {},
   "source": [
    "TF(t) = No of times t appears in a document/ Total number of terms in the doc<br>\n",
    "IDF(t) = log_e(Total no of doc) / No of doc with term t in it<br><br>\n",
    "Override the tokenizing phase and pass directly preprocessed tokens to the function"
   ]
  },
  {
   "cell_type": "code",
   "execution_count": 100,
   "metadata": {},
   "outputs": [],
   "source": [
    "def identity_tokenizer(text):\n",
    "    return text\n",
    "\n",
    "tfidf = TfidfVectorizer(tokenizer=identity_tokenizer, stop_words='english', lowercase=False, \n",
    "                        sublinear_tf=True, min_df=5, norm='l2', encoding='latin-1')    \n",
    "features = tfidf.fit_transform(lem_tokens)"
   ]
  },
  {
   "cell_type": "code",
   "execution_count": 101,
   "metadata": {},
   "outputs": [
    {
     "data": {
      "text/plain": [
       "(9325, 26060)"
      ]
     },
     "execution_count": 101,
     "metadata": {},
     "output_type": "execute_result"
    }
   ],
   "source": [
    "features.shape\n",
    "labels = df.subred_num"
   ]
  },
  {
   "cell_type": "markdown",
   "metadata": {},
   "source": [
    "<h3>Plot TF-IDF Features using t-SNE</h3>\n",
    "t-Distributed Stochastic Neighbor Embedding technique is useful for dimensionality reduction and visualizing high dimension data. <br>\n",
    "<a>https://scikit-learn.org/stable/modules/generated/sklearn.manifold.TSNE.html</a><br>\n",
    "<i>NOTE - Do not run this in local system unless machine have very large memmory. You might end up blowing your memory!</i>"
   ]
  },
  {
   "cell_type": "code",
   "execution_count": null,
   "metadata": {},
   "outputs": [],
   "source": [
    "# Sampling a subset of  dataset because t-SNE is computationally expensive\n",
    "SAMPLE_SIZE = int(len(features.toarray()) * 0.3)\n",
    "np.random.seed(0)\n",
    "indices = np.random.choice(range(len(features.toarray())), size=SAMPLE_SIZE, replace=False)          # Randomly select 30 % of samples\n",
    "projected_features = TSNE(n_components=2, random_state=0).fit_transform(features.toarray()[indices]) # Array of all projected features of 30% of Randomly chosen samples "
   ]
  },
  {
   "cell_type": "code",
   "execution_count": 128,
   "metadata": {},
   "outputs": [
    {
     "data": {
      "text/plain": [
       "<matplotlib.collections.PathCollection at 0x13464af6908>"
      ]
     },
     "execution_count": 128,
     "metadata": {},
     "output_type": "execute_result"
    },
    {
     "data": {
      "text/plain": [
       "<matplotlib.collections.PathCollection at 0x13464af72e8>"
      ]
     },
     "execution_count": 128,
     "metadata": {},
     "output_type": "execute_result"
    },
    {
     "data": {
      "text/plain": [
       "Text(0.5, 1.0, 'tf-idf feature vector for each article, projected on 2 dimensions.')"
      ]
     },
     "execution_count": 128,
     "metadata": {},
     "output_type": "execute_result"
    },
    {
     "data": {
      "text/plain": [
       "<matplotlib.legend.Legend at 0x13464c0ccf8>"
      ]
     },
     "execution_count": 128,
     "metadata": {},
     "output_type": "execute_result"
    },
    {
     "data": {
      "image/png": "[encoded data removed]",
      "text/plain": [
       "<Figure size 432x288 with 1 Axes>"
      ]
     },
     "metadata": {
      "needs_background": "light"
     },
     "output_type": "display_data"
    }
   ],
   "source": [
    "colors = ['midnightblue', 'orange']\n",
    "\n",
    "# Find points belonging to each category and plot them\n",
    "for subred, subred_id in sorted(subred_to_id.items()):\n",
    "    points = projected_features[(labels[indices] == subred_id).values]\n",
    "    plt.scatter(points[:, 0], points[:, 1], s=30, c=colors[subred_id], label=subred)\n",
    "plt.title(\"tf-idf feature vector for each article, projected on 2 dimensions.\",\n",
    "          fontdict=dict(fontsize=15))\n",
    "plt.legend()"
   ]
  },
  {
   "cell_type": "markdown",
   "metadata": {},
   "source": [
    "Splitting the dataset into Train and test data. Training data would be TF-IDF vectors for the document and output is the ideology labels"
   ]
  },
  {
   "cell_type": "code",
   "execution_count": 102,
   "metadata": {},
   "outputs": [],
   "source": [
    "X = features\n",
    "y = labels\n",
    "X_train, X_test, y_train, y_test = train_test_split(X, y, test_size=0.3, random_state=42)"
   ]
  },
  {
   "cell_type": "code",
   "execution_count": 24,
   "metadata": {},
   "outputs": [],
   "source": [
    "def plot_confusion_matrix(cm, classes,normalize=False,title='',cmap=plt.cm.Greys):\n",
    "    \"\"\"\n",
    "    This function prints and plots the confusion matrix.\n",
    "    \"\"\"\n",
    "    if normalize:\n",
    "        cm = cm.astype('float') / cm.sum(axis=1)[:, np.newaxis]\n",
    "        print(\"Normalized confusion matrix\")\n",
    "    else:\n",
    "        print('Confusion matrix, without normalization')\n",
    "\n",
    "    print(cm)\n",
    "\n",
    "    plt.imshow(cm, interpolation='nearest', cmap=cmap)\n",
    "    plt.title(title)\n",
    "    plt.colorbar()\n",
    "    tick_marks = np.arange(len(classes))\n",
    "    plt.xticks(tick_marks, classes, rotation=45,fontsize=15)\n",
    "    plt.yticks(tick_marks, classes,fontsize=15)\n",
    "\n",
    "    fmt = '.2f' if normalize else 'd'\n",
    "    thresh = cm.max() / 2.\n",
    "    for i, j in itertools.product(range(cm.shape[0]), range(cm.shape[1])):\n",
    "        plt.text(j, i, format(cm[i, j], fmt),\n",
    "                 horizontalalignment=\"center\",fontsize=12,\n",
    "                 color=\"white\" if cm[i, j] > thresh else \"black\")\n",
    "\n",
    "    plt.tight_layout()\n",
    "    plt.ylabel('True label',fontsize=15)\n",
    "    plt.xlabel('Predicted label',fontsize=15)"
   ]
  },
  {
   "cell_type": "markdown",
   "metadata": {},
   "source": [
    "This function is for estimating the performance of classification model in kfold cross validation by averaging multiple splits"
   ]
  },
  {
   "cell_type": "code",
   "execution_count": 25,
   "metadata": {},
   "outputs": [],
   "source": [
    "def kfold_performance(classifier, X, y):\n",
    "    kfold = KFold(n_splits=5, shuffle=True, random_state=42)\n",
    "    scores=[]\n",
    "    for train_index, test_index in kfold.split(X):\n",
    "        \n",
    "        X_train, X_test = X[train_index], X[test_index]\n",
    "        y_train, y_test = y.iloc[train_index], y.iloc[test_index]\n",
    "        classifier.fit(X_train, y_train)\n",
    "        y_pred = classifier.predict(X_test)\n",
    "        scores.append(accuracy_score(y_test, y_pred))\n",
    "    return scores"
   ]
  },
  {
   "cell_type": "markdown",
   "metadata": {},
   "source": [
    "Test the performance with set of classifiers beginning with Random Forest and Logistic regression"
   ]
  },
  {
   "cell_type": "code",
   "execution_count": 103,
   "metadata": {},
   "outputs": [],
   "source": [
    "clf = {}\n",
    "clf['LogisticRegression'] = LogisticRegression()\n",
    "clf['Random Forest'] = RandomForestClassifier(n_estimators=200, max_depth=3, random_state=42)\n",
    "clf['SVM'] = LinearSVC()\n",
    "cv_df = pd.DataFrame()\n",
    "model_tuples = []\n",
    "for model in clf:\n",
    "    scores = kfold_performance(clf[model], X, y)\n",
    "    for fold, accuracy in enumerate(scores):\n",
    "        model_tuples.append((model, fold, accuracy))\n",
    "#print(\"Scores: {0}\\nMean: {1:.3f}\\nStd: {2:.3f}\".format(scores, np.mean(scores), np.std(scores)))"
   ]
  },
  {
   "cell_type": "code",
   "execution_count": 104,
   "metadata": {},
   "outputs": [
    {
     "data": {
      "text/plain": [
       "<matplotlib.axes._subplots.AxesSubplot at 0x203e5b12ac8>"
      ]
     },
     "execution_count": 104,
     "metadata": {},
     "output_type": "execute_result"
    },
    {
     "data": {
      "text/plain": [
       "<matplotlib.axes._subplots.AxesSubplot at 0x203e5b12ac8>"
      ]
     },
     "execution_count": 104,
     "metadata": {},
     "output_type": "execute_result"
    },
    {
     "data": {
      "image/png": "[encoded data removed]",
      "text/plain": [
       "<Figure size 432x288 with 1 Axes>"
      ]
     },
     "metadata": {
      "needs_background": "light"
     },
     "output_type": "display_data"
    }
   ],
   "source": [
    "cv_df = pd.DataFrame(model_tuples, columns=['model_name', 'fold', 'accuracy'])\n",
    "sns.boxplot(x='model_name', y='accuracy', data=cv_df)\n",
    "sns.stripplot(x='model_name', y='accuracy', data=cv_df, \n",
    "              size=5, jitter=True, edgecolor=\"gray\", linewidth=2)\n",
    "plt.show()"
   ]
  },
  {
   "cell_type": "markdown",
   "metadata": {},
   "source": [
    "Looks like tree approach doenst work since it is marginally outperformed by other classifiers. "
   ]
  },
  {
   "cell_type": "markdown",
   "metadata": {},
   "source": [
    "Lets plot confusion matrix for Naive bayes and Logistic Regression to evaluate missclassification rate and how each class does with respect to others"
   ]
  },
  {
   "cell_type": "code",
   "execution_count": 28,
   "metadata": {},
   "outputs": [
    {
     "data": {
      "text/plain": [
       "LogisticRegression(C=1.0, class_weight=None, dual=False, fit_intercept=True,\n",
       "          intercept_scaling=1, max_iter=100, multi_class='warn',\n",
       "          n_jobs=None, penalty='l2', random_state=None, solver='warn',\n",
       "          tol=0.0001, verbose=0, warm_start=False)"
      ]
     },
     "execution_count": 28,
     "metadata": {},
     "output_type": "execute_result"
    },
    {
     "data": {
      "text/plain": [
       "<Figure size 432x288 with 0 Axes>"
      ]
     },
     "execution_count": 28,
     "metadata": {},
     "output_type": "execute_result"
    },
    {
     "name": "stdout",
     "output_type": "stream",
     "text": [
      "Normalized confusion matrix\n",
      "[[0.80457227 0.19542773]\n",
      " [0.15533981 0.84466019]]\n"
     ]
    },
    {
     "data": {
      "image/png": "[encoded data removed]",
      "text/plain": [
       "<Figure size 432x288 with 2 Axes>"
      ]
     },
     "metadata": {
      "needs_background": "light"
     },
     "output_type": "display_data"
    }
   ],
   "source": [
    "logit = LogisticRegression()\n",
    "logit.fit(X_train, y_train)\n",
    "y_pred = logit.predict(X_test)\n",
    "cnf_matrix=confusion_matrix(y_test, y_pred)\n",
    "plt.figure()\n",
    "plot_confusion_matrix(cnf_matrix, classes=['Conservative','Liberal'], normalize=True,title='Logistic Regression')\n",
    "plt.show()"
   ]
  },
  {
   "cell_type": "code",
   "execution_count": 30,
   "metadata": {},
   "outputs": [
    {
     "data": {
      "text/plain": [
       "LinearSVC(C=1.0, class_weight=None, dual=True, fit_intercept=True,\n",
       "     intercept_scaling=1, loss='squared_hinge', max_iter=1000,\n",
       "     multi_class='ovr', penalty='l2', random_state=None, tol=0.0001,\n",
       "     verbose=0)"
      ]
     },
     "execution_count": 30,
     "metadata": {},
     "output_type": "execute_result"
    },
    {
     "data": {
      "text/plain": [
       "<Figure size 432x288 with 0 Axes>"
      ]
     },
     "execution_count": 30,
     "metadata": {},
     "output_type": "execute_result"
    },
    {
     "name": "stdout",
     "output_type": "stream",
     "text": [
      "Normalized confusion matrix\n",
      "[[0.81858407 0.18141593]\n",
      " [0.15950069 0.84049931]]\n"
     ]
    },
    {
     "data": {
      "image/png": "[encoded data removed]",
      "text/plain": [
       "<Figure size 432x288 with 2 Axes>"
      ]
     },
     "metadata": {
      "needs_background": "light"
     },
     "output_type": "display_data"
    }
   ],
   "source": [
    "nb = LinearSVC()\n",
    "nb.fit(X_train, y_train)\n",
    "y_pred = nb.predict(X_test)\n",
    "cnf_matrix=confusion_matrix(y_test, y_pred)\n",
    "plt.figure()\n",
    "plot_confusion_matrix(cnf_matrix, classes=['Conservative','Liberal'], normalize=True,title='SVM')\n",
    "plt.show()"
   ]
  },
  {
   "cell_type": "markdown",
   "metadata": {},
   "source": [
    "Socialism still have high missclassification rate in both classifiers"
   ]
  },
  {
   "cell_type": "markdown",
   "metadata": {},
   "source": [
    "<h3>Word2Vec embeddings and Classifiers</h3>"
   ]
  },
  {
   "cell_type": "code",
   "execution_count": 181,
   "metadata": {},
   "outputs": [],
   "source": [
    "import gensim\n",
    "from gensim.models import Word2Vec\n",
    "from gensim.models import KeyedVectors"
   ]
  },
  {
   "cell_type": "code",
   "execution_count": 139,
   "metadata": {},
   "outputs": [],
   "source": [
    "i=0\n",
    "ls=[]\n",
    "for tokens in lem_tokens:\n",
    "    ls.append(gensim.models.doc2vec.TaggedDocument(tokens,[i]))\n",
    "    i=i+1"
   ]
  },
  {
   "cell_type": "code",
   "execution_count": 90,
   "metadata": {},
   "outputs": [
    {
     "name": "stdout",
     "output_type": "stream",
     "text": [
      "Found 400000 word vectors.\n"
     ]
    }
   ],
   "source": [
    "GLOVE_DIR = 'glove_6b/glove.6B/'\n",
    "embeddings_index = {}\n",
    "f = open(os.path.join(GLOVE_DIR, 'glove.6B.100d.txt'), encoding='utf-8')\n",
    "for line in f:\n",
    "    values = line.split()\n",
    "    word = values[0]\n",
    "    coefs = np.asarray(values[1:], dtype='float32')\n",
    "    embeddings_index[word] = coefs\n",
    "f.close()\n",
    "\n",
    "print('Found %s word vectors.' % len(embeddings_index))"
   ]
  },
  {
   "cell_type": "markdown",
   "metadata": {},
   "source": [
    "Creating POS tagging to get the linguistic signal how words are used. We can later use only set of tags to train our algorithm"
   ]
  },
  {
   "cell_type": "code",
   "execution_count": 111,
   "metadata": {},
   "outputs": [],
   "source": [
    "tagged_list = []\n",
    "for text in lem_tokens:\n",
    "    pos_tagged = pos_tag(text)\n",
    "    tagged_pos = [(word, map_tag('en-ptb', 'universal', tag)) for word, tag in pos_tagged]\n",
    "    tagged_list.append(tagged_pos)"
   ]
  },
  {
   "cell_type": "code",
   "execution_count": 162,
   "metadata": {},
   "outputs": [],
   "source": [
    "with open('tagged_tokens_binary.pickle', 'wb') as handle:\n",
    "    pickle.dump(tagged_list, handle, protocol=pickle.HIGHEST_PROTOCOL)"
   ]
  },
  {
   "cell_type": "markdown",
   "metadata": {},
   "source": [
    "Load Google News Word2Vec pretrained model and add weigt to train vector for the token. If it doenst exist then add zero"
   ]
  },
  {
   "cell_type": "code",
   "execution_count": 70,
   "metadata": {},
   "outputs": [],
   "source": [
    "def word2vec_embed(x_data, pos_filter):\n",
    "    print('Loading Google news vector...')\n",
    "    model = KeyedVectors.load_word2vec_format('googlenews_word2vec/GoogleNews-vectors-negative300.bin', binary=True)\n",
    "    x_embedding = []\n",
    "    \n",
    "    print('Creating embeddings')\n",
    "    for token_list in x_data:\n",
    "        train_vec = np.zeros(300)\n",
    "        for token in token_list:\n",
    "            if token[1] in pos_filter:\n",
    "            try:\n",
    "                train_vec += model[token[0]]\n",
    "            except KeyError:\n",
    "                continue\n",
    "        x_embedding.append(train_vec) \n",
    "    return np.array(x_embedding)        "
   ]
  },
  {
   "cell_type": "code",
   "execution_count": 112,
   "metadata": {},
   "outputs": [
    {
     "name": "stdout",
     "output_type": "stream",
     "text": [
      "Loading Google news vector...\n",
      "Creating embeddings\n"
     ]
    }
   ],
   "source": [
    "pos_filter = ['NOUN','ADJ','VERB']\n",
    "arr = word2vec_embed(posts_list,pos_filter)"
   ]
  },
  {
   "cell_type": "code",
   "execution_count": 113,
   "metadata": {},
   "outputs": [],
   "source": [
    "model_embedded=PCA(n_components=2).fit_transform(arr)"
   ]
  },
  {
   "cell_type": "markdown",
   "metadata": {},
   "source": [
    "Every article has weights assigned from google model"
   ]
  },
  {
   "cell_type": "code",
   "execution_count": 119,
   "metadata": {},
   "outputs": [],
   "source": [
    "data = pd.DataFrame(data=arr)"
   ]
  },
  {
   "cell_type": "code",
   "execution_count": 120,
   "metadata": {},
   "outputs": [
    {
     "data": {
      "text/html": [
       "<div>\n",
       "<style scoped>\n",
       "    .dataframe tbody tr th:only-of-type {\n",
       "        vertical-align: middle;\n",
       "    }\n",
       "\n",
       "    .dataframe tbody tr th {\n",
       "        vertical-align: top;\n",
       "    }\n",
       "\n",
       "    .dataframe thead th {\n",
       "        text-align: right;\n",
       "    }\n",
       "</style>\n",
       "<table border=\"1\" class=\"dataframe\">\n",
       "  <thead>\n",
       "    <tr style=\"text-align: right;\">\n",
       "      <th></th>\n",
       "      <th>0</th>\n",
       "      <th>1</th>\n",
       "      <th>2</th>\n",
       "      <th>3</th>\n",
       "      <th>4</th>\n",
       "      <th>5</th>\n",
       "      <th>6</th>\n",
       "      <th>7</th>\n",
       "      <th>8</th>\n",
       "      <th>9</th>\n",
       "      <th>...</th>\n",
       "      <th>291</th>\n",
       "      <th>292</th>\n",
       "      <th>293</th>\n",
       "      <th>294</th>\n",
       "      <th>295</th>\n",
       "      <th>296</th>\n",
       "      <th>297</th>\n",
       "      <th>298</th>\n",
       "      <th>299</th>\n",
       "      <th>subred_num</th>\n",
       "    </tr>\n",
       "  </thead>\n",
       "  <tbody>\n",
       "    <tr>\n",
       "      <th>0</th>\n",
       "      <td>-41.666870</td>\n",
       "      <td>28.461975</td>\n",
       "      <td>4.495361</td>\n",
       "      <td>42.230225</td>\n",
       "      <td>-13.775024</td>\n",
       "      <td>-1.848846</td>\n",
       "      <td>-26.500214</td>\n",
       "      <td>-15.420898</td>\n",
       "      <td>-6.843384</td>\n",
       "      <td>-5.362732</td>\n",
       "      <td>...</td>\n",
       "      <td>-10.428223</td>\n",
       "      <td>-28.689148</td>\n",
       "      <td>38.587280</td>\n",
       "      <td>-13.054199</td>\n",
       "      <td>-52.871094</td>\n",
       "      <td>-31.532349</td>\n",
       "      <td>-6.297852</td>\n",
       "      <td>-20.033691</td>\n",
       "      <td>43.122803</td>\n",
       "      <td>0</td>\n",
       "    </tr>\n",
       "    <tr>\n",
       "      <th>1</th>\n",
       "      <td>-36.238098</td>\n",
       "      <td>24.106445</td>\n",
       "      <td>1.218994</td>\n",
       "      <td>32.348389</td>\n",
       "      <td>-16.954926</td>\n",
       "      <td>-1.540375</td>\n",
       "      <td>-18.922119</td>\n",
       "      <td>-11.374268</td>\n",
       "      <td>-8.532043</td>\n",
       "      <td>-2.579712</td>\n",
       "      <td>...</td>\n",
       "      <td>-6.221069</td>\n",
       "      <td>-23.804092</td>\n",
       "      <td>27.333618</td>\n",
       "      <td>-6.123413</td>\n",
       "      <td>-41.825684</td>\n",
       "      <td>-27.242798</td>\n",
       "      <td>-5.774536</td>\n",
       "      <td>-14.416748</td>\n",
       "      <td>32.758423</td>\n",
       "      <td>1</td>\n",
       "    </tr>\n",
       "    <tr>\n",
       "      <th>2</th>\n",
       "      <td>-104.142517</td>\n",
       "      <td>62.798035</td>\n",
       "      <td>-6.434509</td>\n",
       "      <td>93.664307</td>\n",
       "      <td>-48.855988</td>\n",
       "      <td>-4.448242</td>\n",
       "      <td>-63.247162</td>\n",
       "      <td>-34.322876</td>\n",
       "      <td>-24.522522</td>\n",
       "      <td>-15.009399</td>\n",
       "      <td>...</td>\n",
       "      <td>-27.572754</td>\n",
       "      <td>-70.494980</td>\n",
       "      <td>71.546021</td>\n",
       "      <td>-11.432861</td>\n",
       "      <td>-116.269531</td>\n",
       "      <td>-71.274292</td>\n",
       "      <td>-9.165283</td>\n",
       "      <td>-34.922974</td>\n",
       "      <td>93.559692</td>\n",
       "      <td>1</td>\n",
       "    </tr>\n",
       "    <tr>\n",
       "      <th>3</th>\n",
       "      <td>-54.954041</td>\n",
       "      <td>30.916016</td>\n",
       "      <td>-8.111206</td>\n",
       "      <td>35.274902</td>\n",
       "      <td>-19.896423</td>\n",
       "      <td>-4.101105</td>\n",
       "      <td>-20.647888</td>\n",
       "      <td>-17.915527</td>\n",
       "      <td>-3.081055</td>\n",
       "      <td>-2.800842</td>\n",
       "      <td>...</td>\n",
       "      <td>2.361328</td>\n",
       "      <td>-25.173203</td>\n",
       "      <td>28.293579</td>\n",
       "      <td>-10.293823</td>\n",
       "      <td>-55.489258</td>\n",
       "      <td>-31.078247</td>\n",
       "      <td>-9.182739</td>\n",
       "      <td>-14.481201</td>\n",
       "      <td>41.157349</td>\n",
       "      <td>0</td>\n",
       "    </tr>\n",
       "    <tr>\n",
       "      <th>4</th>\n",
       "      <td>-62.951355</td>\n",
       "      <td>47.612366</td>\n",
       "      <td>-0.653687</td>\n",
       "      <td>55.826416</td>\n",
       "      <td>-29.539703</td>\n",
       "      <td>-2.895325</td>\n",
       "      <td>-37.498444</td>\n",
       "      <td>-24.372803</td>\n",
       "      <td>-14.158081</td>\n",
       "      <td>-5.705872</td>\n",
       "      <td>...</td>\n",
       "      <td>-15.558594</td>\n",
       "      <td>-45.319016</td>\n",
       "      <td>56.557373</td>\n",
       "      <td>-17.909302</td>\n",
       "      <td>-79.711426</td>\n",
       "      <td>-47.733398</td>\n",
       "      <td>-13.835815</td>\n",
       "      <td>-23.935791</td>\n",
       "      <td>57.704224</td>\n",
       "      <td>0</td>\n",
       "    </tr>\n",
       "  </tbody>\n",
       "</table>\n",
       "<p>5 rows × 301 columns</p>\n",
       "</div>"
      ],
      "text/plain": [
       "            0          1         2          3          4         5          6  \\\n",
       "0  -41.666870  28.461975  4.495361  42.230225 -13.775024 -1.848846 -26.500214   \n",
       "1  -36.238098  24.106445  1.218994  32.348389 -16.954926 -1.540375 -18.922119   \n",
       "2 -104.142517  62.798035 -6.434509  93.664307 -48.855988 -4.448242 -63.247162   \n",
       "3  -54.954041  30.916016 -8.111206  35.274902 -19.896423 -4.101105 -20.647888   \n",
       "4  -62.951355  47.612366 -0.653687  55.826416 -29.539703 -2.895325 -37.498444   \n",
       "\n",
       "           7          8          9  ...        291        292        293  \\\n",
       "0 -15.420898  -6.843384  -5.362732  ... -10.428223 -28.689148  38.587280   \n",
       "1 -11.374268  -8.532043  -2.579712  ...  -6.221069 -23.804092  27.333618   \n",
       "2 -34.322876 -24.522522 -15.009399  ... -27.572754 -70.494980  71.546021   \n",
       "3 -17.915527  -3.081055  -2.800842  ...   2.361328 -25.173203  28.293579   \n",
       "4 -24.372803 -14.158081  -5.705872  ... -15.558594 -45.319016  56.557373   \n",
       "\n",
       "         294         295        296        297        298        299  \\\n",
       "0 -13.054199  -52.871094 -31.532349  -6.297852 -20.033691  43.122803   \n",
       "1  -6.123413  -41.825684 -27.242798  -5.774536 -14.416748  32.758423   \n",
       "2 -11.432861 -116.269531 -71.274292  -9.165283 -34.922974  93.559692   \n",
       "3 -10.293823  -55.489258 -31.078247  -9.182739 -14.481201  41.157349   \n",
       "4 -17.909302  -79.711426 -47.733398 -13.835815 -23.935791  57.704224   \n",
       "\n",
       "   subred_num  \n",
       "0           0  \n",
       "1           1  \n",
       "2           1  \n",
       "3           0  \n",
       "4           0  \n",
       "\n",
       "[5 rows x 301 columns]"
      ]
     },
     "execution_count": 120,
     "metadata": {},
     "output_type": "execute_result"
    }
   ],
   "source": [
    "data=data.join(df['subred_num'].reset_index().drop('index',axis=1))\n",
    "data.head()"
   ]
  },
  {
   "cell_type": "markdown",
   "metadata": {},
   "source": [
    "Split the data into training and test data"
   ]
  },
  {
   "cell_type": "code",
   "execution_count": 121,
   "metadata": {},
   "outputs": [],
   "source": [
    "X = data.iloc[:,:-1].values\n",
    "y = data['subred_num']\n",
    "X_train, X_test, y_train, y_test = train_test_split(X, y, test_size=0.3, random_state=42)"
   ]
  },
  {
   "cell_type": "markdown",
   "metadata": {},
   "source": [
    "Again train models with k-fold cross validation taking word2vec vectors"
   ]
  },
  {
   "cell_type": "code",
   "execution_count": 122,
   "metadata": {},
   "outputs": [],
   "source": [
    "clf = {}\n",
    "clf['LogisticRegression'] = LogisticRegression() \n",
    "clf['Random Forest'] = RandomForestClassifier(n_estimators=200, max_depth=3, random_state=42)\n",
    "clf['SVM'] = LinearSVC()\n",
    "cv_df = pd.DataFrame()\n",
    "model_tuples = []\n",
    "for model in clf:\n",
    "    scores = kfold_performance(clf[model], X, y)\n",
    "    for fold, accuracy in enumerate(scores):\n",
    "        model_tuples.append((model, fold, accuracy))"
   ]
  },
  {
   "cell_type": "code",
   "execution_count": 123,
   "metadata": {},
   "outputs": [
    {
     "data": {
      "text/plain": [
       "<matplotlib.axes._subplots.AxesSubplot at 0x203e793f3c8>"
      ]
     },
     "execution_count": 123,
     "metadata": {},
     "output_type": "execute_result"
    },
    {
     "data": {
      "text/plain": [
       "<matplotlib.axes._subplots.AxesSubplot at 0x203e793f3c8>"
      ]
     },
     "execution_count": 123,
     "metadata": {},
     "output_type": "execute_result"
    },
    {
     "data": {
      "image/png": "[encoded data removed]",
      "text/plain": [
       "<Figure size 432x288 with 1 Axes>"
      ]
     },
     "metadata": {
      "needs_background": "light"
     },
     "output_type": "display_data"
    }
   ],
   "source": [
    "cv_df = pd.DataFrame(model_tuples, columns=['model_name', 'fold', 'accuracy'])\n",
    "sns.boxplot(x='model_name', y='accuracy', data=cv_df)\n",
    "sns.stripplot(x='model_name', y='accuracy', data=cv_df, \n",
    "              size=5, jitter=True, edgecolor=\"gray\", linewidth=2)\n",
    "plt.show()"
   ]
  },
  {
   "cell_type": "markdown",
   "metadata": {},
   "source": [
    "Confusion matrix"
   ]
  },
  {
   "cell_type": "code",
   "execution_count": 124,
   "metadata": {},
   "outputs": [
    {
     "data": {
      "text/plain": [
       "LogisticRegression(C=1.0, class_weight=None, dual=False, fit_intercept=True,\n",
       "          intercept_scaling=1, max_iter=100, multi_class='warn',\n",
       "          n_jobs=None, penalty='l2', random_state=None, solver='warn',\n",
       "          tol=0.0001, verbose=0, warm_start=False)"
      ]
     },
     "execution_count": 124,
     "metadata": {},
     "output_type": "execute_result"
    },
    {
     "data": {
      "text/plain": [
       "<Figure size 432x288 with 0 Axes>"
      ]
     },
     "execution_count": 124,
     "metadata": {},
     "output_type": "execute_result"
    },
    {
     "name": "stdout",
     "output_type": "stream",
     "text": [
      "Normalized confusion matrix\n",
      "[[0.69247788 0.30752212]\n",
      " [0.49930652 0.50069348]]\n"
     ]
    },
    {
     "data": {
      "image/png": "[encoded data removed]",
      "text/plain": [
       "<Figure size 432x288 with 2 Axes>"
      ]
     },
     "metadata": {
      "needs_background": "light"
     },
     "output_type": "display_data"
    }
   ],
   "source": [
    "logit = LogisticRegression()\n",
    "logit.fit(X_train, y_train)\n",
    "y_pred = logit.predict(X_test)\n",
    "cnf_matrix=confusion_matrix(y_test, y_pred)\n",
    "plt.figure()\n",
    "plot_confusion_matrix(cnf_matrix, classes=['Conservative','Liberal'], normalize=True,title='Logistic Regression')\n",
    "plt.show()"
   ]
  },
  {
   "cell_type": "markdown",
   "metadata": {},
   "source": []
  }
 ],
 "metadata": {
  "kernelspec": {
   "display_name": "newsclassification",
   "language": "python",
   "name": "newsclassification"
  }
 },
 "nbformat": 4,
 "nbformat_minor": 2
}
