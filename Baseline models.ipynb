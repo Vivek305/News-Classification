{
 "cells": [
  {
   "cell_type": "markdown",
   "metadata": {},
   "source": [
    "<h2>Baseline models</h2>\n",
    "<h4>Preprocessing tasks - </h4>\n",
    "1) Unicode to UTF-8 decoding <br>\n",
    "2) Remove punctuations and numbers <br>\n",
    "3) Expand word contractions <br>\n",
    "4) Lemmatization <br>\n",
    "\n",
    "<h4>Feature extractions - </h4>\n",
    "TF-IDF<br>\n",
    "Word2Vec model\n",
    "<h3> Import packages and set default preferences</h3>\n"
   ]
  },
  {
   "cell_type": "code",
   "execution_count": 175,
   "metadata": {},
   "outputs": [],
   "source": [
    "import pandas as pd\n",
    "import numpy as np\n",
    "import os\n",
    "import nltk\n",
    "import string\n",
    "import re\n",
    "import pickle\n",
    "import itertools\n",
    "from nltk import pos_tag\n",
    "from nltk import map_tag\n",
    "from nltk.stem import WordNetLemmatizer\n",
    "from unidecode import unidecode\n",
    "import matplotlib.pyplot as plt\n",
    "import seaborn as sns\n",
    "import time\n",
    "from sklearn.naive_bayes import MultinomialNB\n",
    "from sklearn.ensemble import RandomForestClassifier\n",
    "#import plotly.plotly as py\n",
    "#import plotly.figure_factory as ff\n",
    "from sklearn import preprocessing\n",
    "from sklearn.metrics import roc_curve, auc, accuracy_score\n",
    "from sklearn.metrics import confusion_matrix, mean_squared_error\n",
    "from sklearn.model_selection import cross_val_score, KFold, train_test_split\n",
    "from sklearn.feature_extraction.text import TfidfVectorizer\n",
    "\n",
    "# Set jupyter notebook preferences\n",
    "from IPython.core.interactiveshell import InteractiveShell\n",
    "InteractiveShell.ast_node_interactivity = \"all\"\n",
    "import warnings\n",
    "warnings.filterwarnings('ignore')\n",
    "\n",
    "sns.set_palette(\"hls\")\n",
    "%matplotlib inline"
   ]
  },
  {
   "cell_type": "code",
   "execution_count": 6,
   "metadata": {},
   "outputs": [
    {
     "data": {
      "text/html": [
       "<div>\n",
       "<style scoped>\n",
       "    .dataframe tbody tr th:only-of-type {\n",
       "        vertical-align: middle;\n",
       "    }\n",
       "\n",
       "    .dataframe tbody tr th {\n",
       "        vertical-align: top;\n",
       "    }\n",
       "\n",
       "    .dataframe thead th {\n",
       "        text-align: right;\n",
       "    }\n",
       "</style>\n",
       "<table border=\"1\" class=\"dataframe\">\n",
       "  <thead>\n",
       "    <tr style=\"text-align: right;\">\n",
       "      <th></th>\n",
       "      <th>subreddit</th>\n",
       "      <th>text</th>\n",
       "    </tr>\n",
       "  </thead>\n",
       "  <tbody>\n",
       "    <tr>\n",
       "      <th>0</th>\n",
       "      <td>conservative</td>\n",
       "      <td>Washington (CNN) Former FBI Director James Com...</td>\n",
       "    </tr>\n",
       "    <tr>\n",
       "      <th>1</th>\n",
       "      <td>conservative</td>\n",
       "      <td>NaN</td>\n",
       "    </tr>\n",
       "    <tr>\n",
       "      <th>2</th>\n",
       "      <td>conservative</td>\n",
       "      <td>Kanye West has been having a very Kanye West 2...</td>\n",
       "    </tr>\n",
       "    <tr>\n",
       "      <th>3</th>\n",
       "      <td>conservative</td>\n",
       "      <td>As a stoical Robert Bork sat before the Senate...</td>\n",
       "    </tr>\n",
       "    <tr>\n",
       "      <th>4</th>\n",
       "      <td>conservative</td>\n",
       "      <td>NaN</td>\n",
       "    </tr>\n",
       "  </tbody>\n",
       "</table>\n",
       "</div>"
      ],
      "text/plain": [
       "      subreddit                                               text\n",
       "0  conservative  Washington (CNN) Former FBI Director James Com...\n",
       "1  conservative                                                NaN\n",
       "2  conservative  Kanye West has been having a very Kanye West 2...\n",
       "3  conservative  As a stoical Robert Bork sat before the Senate...\n",
       "4  conservative                                                NaN"
      ]
     },
     "execution_count": 6,
     "metadata": {},
     "output_type": "execute_result"
    },
    {
     "data": {
      "text/plain": [
       "(17043, 2)"
      ]
     },
     "execution_count": 6,
     "metadata": {},
     "output_type": "execute_result"
    }
   ],
   "source": [
    "df = pd.read_csv('finaldata.csv',encoding='utf-8')\n",
    "df.head()\n",
    "df.shape"
   ]
  },
  {
   "cell_type": "code",
   "execution_count": 7,
   "metadata": {},
   "outputs": [
    {
     "data": {
      "text/plain": [
       "(16381, 2)"
      ]
     },
     "execution_count": 7,
     "metadata": {},
     "output_type": "execute_result"
    }
   ],
   "source": [
    "df.dropna(inplace=True)\n",
    "df.shape"
   ]
  },
  {
   "cell_type": "markdown",
   "metadata": {},
   "source": [
    "We only need unique posts so we dont mess up adding duplicate tokens and result become biased "
   ]
  },
  {
   "cell_type": "code",
   "execution_count": 110,
   "metadata": {},
   "outputs": [
    {
     "data": {
      "text/plain": [
       "(14651,)"
      ]
     },
     "execution_count": 110,
     "metadata": {},
     "output_type": "execute_result"
    }
   ],
   "source": [
    "df = df.drop_duplicates()\n",
    "posts = df.text\n",
    "posts.shape"
   ]
  },
  {
   "cell_type": "markdown",
   "metadata": {},
   "source": [
    "### Expanding word contractions in the text and encoding text to UTF-8"
   ]
  },
  {
   "cell_type": "code",
   "execution_count": 111,
   "metadata": {},
   "outputs": [],
   "source": [
    "with open('expand_dict.pickle','rb') as f:\n",
    "    expand_dict = pickle.load(f)"
   ]
  },
  {
   "cell_type": "code",
   "execution_count": 112,
   "metadata": {},
   "outputs": [
    {
     "data": {
      "text/plain": [
       "'\\nexpand_contractions takes text and search for word contractions from dictionary keys and expand it from\\nvalues from dictionary\\n'"
      ]
     },
     "execution_count": 112,
     "metadata": {},
     "output_type": "execute_result"
    }
   ],
   "source": [
    "'''\n",
    "expand_contractions takes text and search for word contractions from dictionary keys and expand it from\n",
    "values from dictionary\n",
    "'''\n",
    "def expand_contractions(text, contraction_mapping=expand_dict):\n",
    "\n",
    "    contractions_pattern = re.compile('({})'.format('|'.join(contraction_mapping.keys())), \n",
    "                                      flags=re.IGNORECASE|re.DOTALL)\n",
    "    #print(contraction_mapping.keys())\n",
    "    def expand_match(contraction):\n",
    "        match = contraction.group(0)\n",
    "        first_char = match[0]\n",
    "        expanded_contraction = contraction_mapping.get(match)\\\n",
    "                                if contraction_mapping.get(match)\\\n",
    "                                else contraction_mapping.get(match.lower())                       \n",
    "        expanded_contraction = first_char+expanded_contraction[1:]\n",
    "        return expanded_contraction\n",
    "        \n",
    "    expanded_text = contractions_pattern.sub(expand_match, text)\n",
    "    expanded_text = re.sub(\"'\", \"\", expanded_text)\n",
    "    return expanded_text"
   ]
  },
  {
   "cell_type": "code",
   "execution_count": 113,
   "metadata": {},
   "outputs": [],
   "source": [
    "text_list = []\n",
    "for post in posts:\n",
    "    text_list.append(expand_contractions(post))"
   ]
  },
  {
   "cell_type": "code",
   "execution_count": 114,
   "metadata": {},
   "outputs": [],
   "source": [
    "#encoding from Unicode to UTF-8 and storing into new list\n",
    "encoded_list=[]\n",
    "for post in text_list:\n",
    "    encoded_list.append(unidecode(post))"
   ]
  },
  {
   "cell_type": "markdown",
   "metadata": {},
   "source": [
    "### Word tokenization and remove punctuations"
   ]
  },
  {
   "cell_type": "markdown",
   "metadata": {},
   "source": [
    "Tokenization and store cleaned tokens in the list"
   ]
  },
  {
   "cell_type": "code",
   "execution_count": 115,
   "metadata": {},
   "outputs": [],
   "source": [
    "def word_clean_tokenize(text):\n",
    "    tokens = nltk.word_tokenize(text)\n",
    "    tokenlist = []\n",
    "    for token in tokens:\n",
    "        token = token.strip().lower()\n",
    "        pattern = re.compile('[{}]'.format(re.escape(string.punctuation)))\n",
    "        token = pattern.sub('',token)\n",
    "        if not any(c.isdigit() for c in token):\n",
    "            tokenlist.append(token)\n",
    "    return tokenlist"
   ]
  },
  {
   "cell_type": "code",
   "execution_count": 116,
   "metadata": {},
   "outputs": [],
   "source": [
    "#tokenize the text in the list and store cleaned tokens in the list\n",
    "tokens = []\n",
    "for text in encoded_list:\n",
    "    tokens.append(word_clean_tokenize(text))"
   ]
  },
  {
   "cell_type": "markdown",
   "metadata": {},
   "source": [
    "### Remove stop words and Lemmatizations"
   ]
  },
  {
   "cell_type": "code",
   "execution_count": 117,
   "metadata": {},
   "outputs": [
    {
     "data": {
      "text/plain": [
       "14651"
      ]
     },
     "execution_count": 117,
     "metadata": {},
     "output_type": "execute_result"
    }
   ],
   "source": [
    "lemmatizer = WordNetLemmatizer()\n",
    "lem_tokens=[]\n",
    "stopword_list = nltk.corpus.stopwords.words('english')\n",
    "for token_list in tokens:\n",
    "    filter_list = []\n",
    "    for token in token_list:\n",
    "        if token not in stopword_list and token.strip():\n",
    "            filter_list.append(token)\n",
    "    lem_tokens.append(filter_list)\n",
    "len(lem_tokens)"
   ]
  },
  {
   "cell_type": "markdown",
   "metadata": {},
   "source": [
    "Encoding text label to intenger before feeding it to classification models"
   ]
  },
  {
   "cell_type": "code",
   "execution_count": 118,
   "metadata": {},
   "outputs": [
    {
     "name": "stderr",
     "output_type": "stream",
     "text": [
      "f:\\ms\\applied ml\\project2\\venv\\lib\\site-packages\\ipykernel_launcher.py:2: SettingWithCopyWarning: \n",
      "A value is trying to be set on a copy of a slice from a DataFrame.\n",
      "Try using .loc[row_indexer,col_indexer] = value instead\n",
      "\n",
      "See the caveats in the documentation: http://pandas.pydata.org/pandas-docs/stable/indexing.html#indexing-view-versus-copy\n",
      "  \n"
     ]
    }
   ],
   "source": [
    "le = preprocessing.LabelEncoder()\n",
    "df['subred_num']=le.fit_transform(df['subreddit'])"
   ]
  },
  {
   "cell_type": "markdown",
   "metadata": {},
   "source": [
    "We cold try establishing classification accuracy on these data"
   ]
  },
  {
   "cell_type": "markdown",
   "metadata": {},
   "source": [
    "<h3>TF-IDF Vectorizer and classification models</h3>"
   ]
  },
  {
   "cell_type": "markdown",
   "metadata": {},
   "source": [
    "TF(t) = No of times t appears in a document/ Total number of terms in the doc<br>\n",
    "IDF(t) = log_e(Total no of doc) / No of doc with term t in it<br><br>\n",
    "Override the tokenizing phase and pass directly preprocessed tokens to the function"
   ]
  },
  {
   "cell_type": "code",
   "execution_count": 119,
   "metadata": {},
   "outputs": [],
   "source": [
    "def identity_tokenizer(text):\n",
    "    return text\n",
    "\n",
    "tfidf = TfidfVectorizer(tokenizer=identity_tokenizer, stop_words='english', lowercase=False, \n",
    "                        sublinear_tf=True, min_df=5, norm='l2', encoding='latin-1')    \n",
    "features = tfidf.fit_transform(lem_tokens)"
   ]
  },
  {
   "cell_type": "markdown",
   "metadata": {},
   "source": [
    "Splitting the dataset into Train and test data. Training data would be TF-IDF vectors for the document and output is the ideology labels"
   ]
  },
  {
   "cell_type": "code",
   "execution_count": 132,
   "metadata": {},
   "outputs": [],
   "source": [
    "X = features\n",
    "y = df['subred_num']\n",
    "X_train, X_test, y_train, y_test = train_test_split(X, y, test_size=0.3, random_state=42)"
   ]
  },
  {
   "cell_type": "code",
   "execution_count": 121,
   "metadata": {},
   "outputs": [],
   "source": [
    "def plot_confusion_matrix(cm, classes,normalize=False,title='',cmap=plt.cm.Greys):\n",
    "    \"\"\"\n",
    "    This function prints and plots the confusion matrix.\n",
    "    \"\"\"\n",
    "    if normalize:\n",
    "        cm = cm.astype('float') / cm.sum(axis=1)[:, np.newaxis]\n",
    "        print(\"Normalized confusion matrix\")\n",
    "    else:\n",
    "        print('Confusion matrix, without normalization')\n",
    "\n",
    "    print(cm)\n",
    "\n",
    "    plt.imshow(cm, interpolation='nearest', cmap=cmap)\n",
    "    plt.title(title)\n",
    "    plt.colorbar()\n",
    "    tick_marks = np.arange(len(classes))\n",
    "    plt.xticks(tick_marks, classes, rotation=45,fontsize=15)\n",
    "    plt.yticks(tick_marks, classes,fontsize=15)\n",
    "\n",
    "    fmt = '.2f' if normalize else 'd'\n",
    "    thresh = cm.max() / 2.\n",
    "    for i, j in itertools.product(range(cm.shape[0]), range(cm.shape[1])):\n",
    "        plt.text(j, i, format(cm[i, j], fmt),\n",
    "                 horizontalalignment=\"center\",fontsize=12,\n",
    "                 color=\"white\" if cm[i, j] > thresh else \"black\")\n",
    "\n",
    "    plt.tight_layout()\n",
    "    plt.ylabel('True label',fontsize=15)\n",
    "    plt.xlabel('Predicted label',fontsize=15)"
   ]
  },
  {
   "cell_type": "markdown",
   "metadata": {},
   "source": [
    "This function is for estimating the performance of classification model in kfold cross validation by averaging multiple splits"
   ]
  },
  {
   "cell_type": "code",
   "execution_count": 179,
   "metadata": {},
   "outputs": [],
   "source": [
    "def kfold_performance(classifier, X, y):\n",
    "    kfold = KFold(n_splits=5, shuffle=True, random_state=42)\n",
    "    scores=[]\n",
    "    for train_index, test_index in kfold.split(X):\n",
    "        \n",
    "        X_train, X_test = X[train_index], X[test_index]\n",
    "        y_train, y_test = y.iloc[train_index], y.iloc[test_index]\n",
    "        classifier.fit(X_train, y_train)\n",
    "        y_pred = classifier.predict(X_test)\n",
    "        scores.append(accuracy_score(y_test, y_pred))\n",
    "    return scores"
   ]
  },
  {
   "cell_type": "markdown",
   "metadata": {},
   "source": [
    "Test the performance with set of classifiers beginning with Naive bayes and Logistic regression"
   ]
  },
  {
   "cell_type": "code",
   "execution_count": 156,
   "metadata": {},
   "outputs": [
    {
     "name": "stderr",
     "output_type": "stream",
     "text": [
      "f:\\ms\\applied ml\\project2\\venv\\lib\\site-packages\\sklearn\\linear_model\\logistic.py:433: FutureWarning: Default solver will be changed to 'lbfgs' in 0.22. Specify a solver to silence this warning.\n",
      "  FutureWarning)\n",
      "f:\\ms\\applied ml\\project2\\venv\\lib\\site-packages\\sklearn\\linear_model\\logistic.py:460: FutureWarning: Default multi_class will be changed to 'auto' in 0.22. Specify the multi_class option to silence this warning.\n",
      "  \"this warning.\", FutureWarning)\n"
     ]
    },
    {
     "name": "stdout",
     "output_type": "stream",
     "text": [
      "Scores: [0.5593451568894953, 0.5412969283276451, 0.5146757679180888, 0.557679180887372, 0.5003412969283276, 0.5255972696245734, 0.5146757679180888, 0.5378839590443686, 0.5269624573378839, 0.5372013651877133]\n",
      "Mean: 0.532\n",
      "Std: 0.018\n"
     ]
    }
   ],
   "source": [
    "clf = {}\n",
    "clf['LogisticRegression'] = LogisticRegression()\n",
    "clf['NaiveBayes'] = MultinomialNB()\n",
    "clf['Random Forest'] = RandomForestClassifier(n_estimators=200, max_depth=3, random_state=42)\n",
    "cv_df = pd.DataFrame()\n",
    "model_tuples = []\n",
    "for model in clf:\n",
    "    scores = kfold_performance(clf[model], X, y)\n",
    "    for fold, accuracy in enumerate(scores):\n",
    "        model_tuples.append((model, fold, accuracy))\n",
    "#print(\"Scores: {0}\\nMean: {1:.3f}\\nStd: {2:.3f}\".format(scores, np.mean(scores), np.std(scores)))"
   ]
  },
  {
   "cell_type": "code",
   "execution_count": 158,
   "metadata": {},
   "outputs": [
    {
     "data": {
      "text/plain": [
       "<matplotlib.axes._subplots.AxesSubplot at 0x1e09c9c1fd0>"
      ]
     },
     "execution_count": 158,
     "metadata": {},
     "output_type": "execute_result"
    },
    {
     "data": {
      "text/plain": [
       "<matplotlib.axes._subplots.AxesSubplot at 0x1e09c9c1fd0>"
      ]
     },
     "execution_count": 158,
     "metadata": {},
     "output_type": "execute_result"
    },
    {
     "data": {
      "image/png": "[encoded data removed]",
      "text/plain": [
       "<Figure size 432x288 with 1 Axes>"
      ]
     },
     "metadata": {
      "needs_background": "light"
     },
     "output_type": "display_data"
    }
   ],
   "source": [
    "cv_df = pd.DataFrame(model_tuples, columns=['model_name', 'fold', 'accuracy'])\n",
    "sns.boxplot(x='model_name', y='accuracy', data=cv_df)\n",
    "sns.stripplot(x='model_name', y='accuracy', data=cv_df, \n",
    "              size=5, jitter=True, edgecolor=\"gray\", linewidth=2)\n",
    "plt.show()"
   ]
  },
  {
   "cell_type": "markdown",
   "metadata": {},
   "source": [
    "Looks like tree approach doenst work since it is marginally outperformed by other classifiers"
   ]
  },
  {
   "cell_type": "markdown",
   "metadata": {},
   "source": [
    "Lets plot confusion matrix for Naive bayes and Logistic Regression to evaluate missclassification rate and how each class does with respect to others"
   ]
  },
  {
   "cell_type": "code",
   "execution_count": 159,
   "metadata": {},
   "outputs": [
    {
     "name": "stderr",
     "output_type": "stream",
     "text": [
      "f:\\ms\\applied ml\\project2\\venv\\lib\\site-packages\\sklearn\\linear_model\\logistic.py:433: FutureWarning: Default solver will be changed to 'lbfgs' in 0.22. Specify a solver to silence this warning.\n",
      "  FutureWarning)\n",
      "f:\\ms\\applied ml\\project2\\venv\\lib\\site-packages\\sklearn\\linear_model\\logistic.py:460: FutureWarning: Default multi_class will be changed to 'auto' in 0.22. Specify the multi_class option to silence this warning.\n",
      "  \"this warning.\", FutureWarning)\n"
     ]
    },
    {
     "data": {
      "text/plain": [
       "LogisticRegression(C=1.0, class_weight=None, dual=False, fit_intercept=True,\n",
       "          intercept_scaling=1, max_iter=100, multi_class='warn',\n",
       "          n_jobs=None, penalty='l2', random_state=None, solver='warn',\n",
       "          tol=0.0001, verbose=0, warm_start=False)"
      ]
     },
     "execution_count": 159,
     "metadata": {},
     "output_type": "execute_result"
    },
    {
     "data": {
      "text/plain": [
       "<Figure size 432x288 with 0 Axes>"
      ]
     },
     "execution_count": 159,
     "metadata": {},
     "output_type": "execute_result"
    },
    {
     "name": "stdout",
     "output_type": "stream",
     "text": [
      "Normalized confusion matrix\n",
      "[[0.7853717  0.17386091 0.04076739]\n",
      " [0.13449634 0.81148002 0.05402364]\n",
      " [0.0851735  0.20715037 0.70767613]]\n"
     ]
    },
    {
     "data": {
      "image/png": "[encoded data removed]",
      "text/plain": [
       "<Figure size 432x288 with 2 Axes>"
      ]
     },
     "metadata": {
      "needs_background": "light"
     },
     "output_type": "display_data"
    }
   ],
   "source": [
    "logit = LogisticRegression()\n",
    "logit.fit(X_train, y_train)\n",
    "y_pred = logit.predict(X_test)\n",
    "cnf_matrix=confusion_matrix(y_test, y_pred)\n",
    "plt.figure()\n",
    "plot_confusion_matrix(cnf_matrix, classes=['Conservative','Liberal','Socialism'], normalize=True,title='Logistic Regression')\n",
    "plt.show()"
   ]
  },
  {
   "cell_type": "code",
   "execution_count": 160,
   "metadata": {},
   "outputs": [
    {
     "data": {
      "text/plain": [
       "MultinomialNB(alpha=1.0, class_prior=None, fit_prior=True)"
      ]
     },
     "execution_count": 160,
     "metadata": {},
     "output_type": "execute_result"
    },
    {
     "data": {
      "text/plain": [
       "<Figure size 432x288 with 0 Axes>"
      ]
     },
     "execution_count": 160,
     "metadata": {},
     "output_type": "execute_result"
    },
    {
     "name": "stdout",
     "output_type": "stream",
     "text": [
      "Normalized confusion matrix\n",
      "[[0.67086331 0.30755396 0.02158273]\n",
      " [0.10410805 0.87113112 0.02476083]\n",
      " [0.05573081 0.47003155 0.47423764]]\n"
     ]
    },
    {
     "data": {
      "image/png": "[encoded data removed]",
      "text/plain": [
       "<Figure size 432x288 with 2 Axes>"
      ]
     },
     "metadata": {
      "needs_background": "light"
     },
     "output_type": "display_data"
    }
   ],
   "source": [
    "nb = MultinomialNB()\n",
    "nb.fit(X_train, y_train)\n",
    "y_pred = nb.predict(X_test)\n",
    "cnf_matrix=confusion_matrix(y_test, y_pred)\n",
    "plt.figure()\n",
    "plot_confusion_matrix(cnf_matrix, classes=['Conservative','Liberal','Socialism'], normalize=True,title='Naive bayes')\n",
    "plt.show()"
   ]
  },
  {
   "cell_type": "markdown",
   "metadata": {},
   "source": [
    "Socialism still have high missclassification rate in both classifiers"
   ]
  },
  {
   "cell_type": "markdown",
   "metadata": {},
   "source": [
    "<h3>Word2Vec embeddings and Classifiers</h3>"
   ]
  },
  {
   "cell_type": "markdown",
   "metadata": {},
   "source": [
    "Creating POS tagging to get the linguistic signal how words are used. We can later use only set of tags to train our algorithm"
   ]
  },
  {
   "cell_type": "code",
   "execution_count": 162,
   "metadata": {},
   "outputs": [],
   "source": [
    "tagged_list = []\n",
    "for text in lem_tokens:\n",
    "    pos_tagged = pos_tag(text)\n",
    "    tagged_pos = [(word, map_tag('en-ptb', 'universal', tag)) for word, tag in pos_tagged]\n",
    "    tagged_list.append(tagged_pos)"
   ]
  },
  {
   "cell_type": "markdown",
   "metadata": {},
   "source": [
    "Load Google News Word2Vec pretrained model and add weigt to train vector for the token. If it doenst exist then add zero"
   ]
  },
  {
   "cell_type": "code",
   "execution_count": 163,
   "metadata": {},
   "outputs": [],
   "source": [
    "def word2vec_embed(x_data, pos_filter):\n",
    "    print('Loading Google news vector...')\n",
    "    model = word2vec.KeyedVectors.load_word2vec_format('googlenews_word2vec/GoogleNews-vectors-negative300.bin', binary=True)\n",
    "    x_embedding = []\n",
    "    \n",
    "    print('Creating embeddings')\n",
    "    for token_list in x_data:\n",
    "        train_vec = np.zeros(300)\n",
    "        for token in token_list:\n",
    "            if token[1] in pos_filter:\n",
    "                try:\n",
    "                    train_vec += model[token[0]]\n",
    "                except KeyError:\n",
    "                    continue\n",
    "        x_embedding.append(train_vec) \n",
    "    return np.array(x_embedding)        "
   ]
  },
  {
   "cell_type": "code",
   "execution_count": 164,
   "metadata": {},
   "outputs": [
    {
     "name": "stdout",
     "output_type": "stream",
     "text": [
      "Loading Google news vector...\n",
      "Creating embeddings\n"
     ]
    }
   ],
   "source": [
    "pos_filter = ['NOUN','ADJ','VERB']\n",
    "arr = word2vec_embed(tagged_list,pos_filter)"
   ]
  },
  {
   "cell_type": "code",
   "execution_count": 165,
   "metadata": {},
   "outputs": [
    {
     "data": {
      "text/plain": [
       "(14651, 300)"
      ]
     },
     "execution_count": 165,
     "metadata": {},
     "output_type": "execute_result"
    }
   ],
   "source": [
    "arr.shape"
   ]
  },
  {
   "cell_type": "code",
   "execution_count": 24,
   "metadata": {},
   "outputs": [],
   "source": [
    "Every article has weights assigned from google model"
   ]
  },
  {
   "cell_type": "code",
   "execution_count": 166,
   "metadata": {},
   "outputs": [],
   "source": [
    "data = pd.DataFrame(data=arr)"
   ]
  },
  {
   "cell_type": "code",
   "execution_count": 167,
   "metadata": {},
   "outputs": [
    {
     "data": {
      "text/html": [
       "<div>\n",
       "<style scoped>\n",
       "    .dataframe tbody tr th:only-of-type {\n",
       "        vertical-align: middle;\n",
       "    }\n",
       "\n",
       "    .dataframe tbody tr th {\n",
       "        vertical-align: top;\n",
       "    }\n",
       "\n",
       "    .dataframe thead th {\n",
       "        text-align: right;\n",
       "    }\n",
       "</style>\n",
       "<table border=\"1\" class=\"dataframe\">\n",
       "  <thead>\n",
       "    <tr style=\"text-align: right;\">\n",
       "      <th></th>\n",
       "      <th>0</th>\n",
       "      <th>1</th>\n",
       "      <th>2</th>\n",
       "      <th>3</th>\n",
       "      <th>4</th>\n",
       "      <th>5</th>\n",
       "      <th>6</th>\n",
       "      <th>7</th>\n",
       "      <th>8</th>\n",
       "      <th>9</th>\n",
       "      <th>...</th>\n",
       "      <th>291</th>\n",
       "      <th>292</th>\n",
       "      <th>293</th>\n",
       "      <th>294</th>\n",
       "      <th>295</th>\n",
       "      <th>296</th>\n",
       "      <th>297</th>\n",
       "      <th>298</th>\n",
       "      <th>299</th>\n",
       "      <th>subred_num</th>\n",
       "    </tr>\n",
       "  </thead>\n",
       "  <tbody>\n",
       "    <tr>\n",
       "      <th>0</th>\n",
       "      <td>1.022503</td>\n",
       "      <td>9.263481</td>\n",
       "      <td>7.196661</td>\n",
       "      <td>0.713737</td>\n",
       "      <td>-10.198532</td>\n",
       "      <td>-5.373705</td>\n",
       "      <td>6.329010</td>\n",
       "      <td>-11.324772</td>\n",
       "      <td>22.767520</td>\n",
       "      <td>6.896969</td>\n",
       "      <td>...</td>\n",
       "      <td>3.639935</td>\n",
       "      <td>-10.124123</td>\n",
       "      <td>13.274714</td>\n",
       "      <td>-8.389603</td>\n",
       "      <td>-6.505627</td>\n",
       "      <td>6.343185</td>\n",
       "      <td>-17.560234</td>\n",
       "      <td>-2.442932</td>\n",
       "      <td>3.079132</td>\n",
       "      <td>0</td>\n",
       "    </tr>\n",
       "    <tr>\n",
       "      <th>1</th>\n",
       "      <td>-0.323867</td>\n",
       "      <td>7.722980</td>\n",
       "      <td>12.684483</td>\n",
       "      <td>32.433552</td>\n",
       "      <td>-16.988693</td>\n",
       "      <td>-10.869745</td>\n",
       "      <td>4.093761</td>\n",
       "      <td>-28.068019</td>\n",
       "      <td>25.313713</td>\n",
       "      <td>20.590340</td>\n",
       "      <td>...</td>\n",
       "      <td>8.180832</td>\n",
       "      <td>-23.305218</td>\n",
       "      <td>0.471176</td>\n",
       "      <td>-14.555885</td>\n",
       "      <td>-25.838142</td>\n",
       "      <td>2.277317</td>\n",
       "      <td>-25.614525</td>\n",
       "      <td>15.118515</td>\n",
       "      <td>2.317825</td>\n",
       "      <td>0</td>\n",
       "    </tr>\n",
       "    <tr>\n",
       "      <th>2</th>\n",
       "      <td>77.467317</td>\n",
       "      <td>113.915773</td>\n",
       "      <td>65.519438</td>\n",
       "      <td>245.179375</td>\n",
       "      <td>-94.565128</td>\n",
       "      <td>-109.999386</td>\n",
       "      <td>93.734236</td>\n",
       "      <td>-87.885499</td>\n",
       "      <td>257.730162</td>\n",
       "      <td>121.020763</td>\n",
       "      <td>...</td>\n",
       "      <td>-58.143604</td>\n",
       "      <td>-146.690353</td>\n",
       "      <td>34.986722</td>\n",
       "      <td>-84.497543</td>\n",
       "      <td>-77.428837</td>\n",
       "      <td>90.276260</td>\n",
       "      <td>-132.698345</td>\n",
       "      <td>64.056031</td>\n",
       "      <td>158.318733</td>\n",
       "      <td>0</td>\n",
       "    </tr>\n",
       "    <tr>\n",
       "      <th>3</th>\n",
       "      <td>0.672150</td>\n",
       "      <td>8.860280</td>\n",
       "      <td>6.773788</td>\n",
       "      <td>5.557095</td>\n",
       "      <td>-13.995350</td>\n",
       "      <td>-1.298798</td>\n",
       "      <td>14.855133</td>\n",
       "      <td>-13.880474</td>\n",
       "      <td>26.359550</td>\n",
       "      <td>16.415405</td>\n",
       "      <td>...</td>\n",
       "      <td>-5.279045</td>\n",
       "      <td>-10.628357</td>\n",
       "      <td>10.426218</td>\n",
       "      <td>-11.863808</td>\n",
       "      <td>-10.780058</td>\n",
       "      <td>0.959249</td>\n",
       "      <td>-18.345068</td>\n",
       "      <td>6.968060</td>\n",
       "      <td>6.299683</td>\n",
       "      <td>0</td>\n",
       "    </tr>\n",
       "    <tr>\n",
       "      <th>4</th>\n",
       "      <td>-0.122070</td>\n",
       "      <td>-0.461533</td>\n",
       "      <td>-1.217285</td>\n",
       "      <td>2.936523</td>\n",
       "      <td>-2.079285</td>\n",
       "      <td>2.565628</td>\n",
       "      <td>3.502319</td>\n",
       "      <td>-0.293793</td>\n",
       "      <td>4.122253</td>\n",
       "      <td>1.102203</td>\n",
       "      <td>...</td>\n",
       "      <td>-0.417969</td>\n",
       "      <td>-0.977966</td>\n",
       "      <td>-1.018799</td>\n",
       "      <td>1.823914</td>\n",
       "      <td>-2.710815</td>\n",
       "      <td>0.975128</td>\n",
       "      <td>-4.760040</td>\n",
       "      <td>-0.759163</td>\n",
       "      <td>0.799683</td>\n",
       "      <td>0</td>\n",
       "    </tr>\n",
       "  </tbody>\n",
       "</table>\n",
       "<p>5 rows × 301 columns</p>\n",
       "</div>"
      ],
      "text/plain": [
       "           0           1          2           3          4           5  \\\n",
       "0   1.022503    9.263481   7.196661    0.713737 -10.198532   -5.373705   \n",
       "1  -0.323867    7.722980  12.684483   32.433552 -16.988693  -10.869745   \n",
       "2  77.467317  113.915773  65.519438  245.179375 -94.565128 -109.999386   \n",
       "3   0.672150    8.860280   6.773788    5.557095 -13.995350   -1.298798   \n",
       "4  -0.122070   -0.461533  -1.217285    2.936523  -2.079285    2.565628   \n",
       "\n",
       "           6          7           8           9  ...        291         292  \\\n",
       "0   6.329010 -11.324772   22.767520    6.896969  ...   3.639935  -10.124123   \n",
       "1   4.093761 -28.068019   25.313713   20.590340  ...   8.180832  -23.305218   \n",
       "2  93.734236 -87.885499  257.730162  121.020763  ... -58.143604 -146.690353   \n",
       "3  14.855133 -13.880474   26.359550   16.415405  ...  -5.279045  -10.628357   \n",
       "4   3.502319  -0.293793    4.122253    1.102203  ...  -0.417969   -0.977966   \n",
       "\n",
       "         293        294        295        296         297        298  \\\n",
       "0  13.274714  -8.389603  -6.505627   6.343185  -17.560234  -2.442932   \n",
       "1   0.471176 -14.555885 -25.838142   2.277317  -25.614525  15.118515   \n",
       "2  34.986722 -84.497543 -77.428837  90.276260 -132.698345  64.056031   \n",
       "3  10.426218 -11.863808 -10.780058   0.959249  -18.345068   6.968060   \n",
       "4  -1.018799   1.823914  -2.710815   0.975128   -4.760040  -0.759163   \n",
       "\n",
       "          299  subred_num  \n",
       "0    3.079132           0  \n",
       "1    2.317825           0  \n",
       "2  158.318733           0  \n",
       "3    6.299683           0  \n",
       "4    0.799683           0  \n",
       "\n",
       "[5 rows x 301 columns]"
      ]
     },
     "execution_count": 167,
     "metadata": {},
     "output_type": "execute_result"
    }
   ],
   "source": [
    "data=data.join(df['subred_num'].reset_index().drop('index',axis=1))\n",
    "data.head()"
   ]
  },
  {
   "cell_type": "markdown",
   "metadata": {},
   "source": [
    "Split the data into training and test data"
   ]
  },
  {
   "cell_type": "code",
   "execution_count": 173,
   "metadata": {},
   "outputs": [],
   "source": [
    "X = data.iloc[:,:-1].values\n",
    "y = data['subred_num']\n",
    "X_train, X_test, y_train, y_test = train_test_split(X, y, test_size=0.3, random_state=42)"
   ]
  },
  {
   "cell_type": "code",
   "execution_count": 180,
   "metadata": {},
   "outputs": [],
   "source": [
    "clf = {}\n",
    "clf['LogisticRegression'] = LogisticRegression() \n",
    "clf['Random Forest'] = RandomForestClassifier(n_estimators=200, max_depth=3, random_state=42)\n",
    "cv_df = pd.DataFrame()\n",
    "model_tuples = []\n",
    "for model in clf:\n",
    "    scores = kfold_performance(clf[model], X, y)\n",
    "    for fold, accuracy in enumerate(scores):\n",
    "        model_tuples.append((model, fold, accuracy))"
   ]
  },
  {
   "cell_type": "code",
   "execution_count": 181,
   "metadata": {},
   "outputs": [
    {
     "data": {
      "text/plain": [
       "<matplotlib.axes._subplots.AxesSubplot at 0x1e06c62ef28>"
      ]
     },
     "execution_count": 181,
     "metadata": {},
     "output_type": "execute_result"
    },
    {
     "data": {
      "text/plain": [
       "<matplotlib.axes._subplots.AxesSubplot at 0x1e06c62ef28>"
      ]
     },
     "execution_count": 181,
     "metadata": {},
     "output_type": "execute_result"
    },
    {
     "data": {
      "image/png": "[encoded data removed]",
      "text/plain": [
       "<Figure size 432x288 with 1 Axes>"
      ]
     },
     "metadata": {
      "needs_background": "light"
     },
     "output_type": "display_data"
    }
   ],
   "source": [
    "cv_df = pd.DataFrame(model_tuples, columns=['model_name', 'fold', 'accuracy'])\n",
    "sns.boxplot(x='model_name', y='accuracy', data=cv_df)\n",
    "sns.stripplot(x='model_name', y='accuracy', data=cv_df, \n",
    "              size=5, jitter=True, edgecolor=\"gray\", linewidth=2)\n",
    "plt.show()"
   ]
  },
  {
   "cell_type": "markdown",
   "metadata": {},
   "source": [
    "Confusion matrix"
   ]
  },
  {
   "cell_type": "code",
   "execution_count": 182,
   "metadata": {},
   "outputs": [
    {
     "data": {
      "text/plain": [
       "LogisticRegression(C=1.0, class_weight=None, dual=False, fit_intercept=True,\n",
       "          intercept_scaling=1, max_iter=100, multi_class='warn',\n",
       "          n_jobs=None, penalty='l2', random_state=None, solver='warn',\n",
       "          tol=0.0001, verbose=0, warm_start=False)"
      ]
     },
     "execution_count": 182,
     "metadata": {},
     "output_type": "execute_result"
    },
    {
     "data": {
      "text/plain": [
       "<Figure size 432x288 with 0 Axes>"
      ]
     },
     "execution_count": 182,
     "metadata": {},
     "output_type": "execute_result"
    },
    {
     "name": "stdout",
     "output_type": "stream",
     "text": [
      "Normalized confusion matrix\n",
      "[[0.70083933 0.24040767 0.058753  ]\n",
      " [0.28081035 0.65109736 0.06809229]\n",
      " [0.16088328 0.18191377 0.65720294]]\n"
     ]
    },
    {
     "data": {
      "image/png": "[encoded data removed]",
      "text/plain": [
       "<Figure size 432x288 with 2 Axes>"
      ]
     },
     "metadata": {
      "needs_background": "light"
     },
     "output_type": "display_data"
    }
   ],
   "source": [
    "logit = LogisticRegression()\n",
    "logit.fit(X_train, y_train)\n",
    "y_pred = logit.predict(X_test)\n",
    "cnf_matrix=confusion_matrix(y_test, y_pred)\n",
    "plt.figure()\n",
    "plot_confusion_matrix(cnf_matrix, classes=['Conservative','Liberal','Socialism'], normalize=True,title='Logistic Regression')\n",
    "plt.show()"
   ]
  },
  {
   "cell_type": "markdown",
   "metadata": {},
   "source": [
    "Some of the misclassified articles could be the one that touch on more than one subjects or lean equally into more than one political ideologies. We need to find the terms that are most correlated with each categories."
   ]
  },
  {
   "cell_type": "code",
   "execution_count": null,
   "metadata": {},
   "outputs": [],
   "source": []
  }
 ],
 "metadata": {
  "kernelspec": {
   "display_name": "newsclassification",
   "language": "python",
   "name": "newsclassification"
  },
  "language_info": {
   "codemirror_mode": {
    "name": "ipython",
    "version": 3
   },
   "file_extension": ".py",
   "mimetype": "text/x-python",
   "name": "python",
   "nbconvert_exporter": "python",
   "pygments_lexer": "ipython3",
   "version": "3.6.5"
  }
 },
 "nbformat": 4,
 "nbformat_minor": 2
}
